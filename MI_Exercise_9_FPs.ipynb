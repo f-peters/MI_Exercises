{
 "cells": [
  {
   "cell_type": "code",
   "execution_count": 2,
   "id": "e5794804",
   "metadata": {},
   "outputs": [
    {
     "name": "stdout",
     "output_type": "stream",
     "text": [
      "132\n",
      "132\n"
     ]
    },
    {
     "name": "stderr",
     "output_type": "stream",
     "text": [
      "/home/da36nik/miniconda3/envs/MI_09/lib/python3.8/site-packages/sklearn/utils/deprecation.py:144: FutureWarning:\n",
      "\n",
      "The sklearn.neighbors.unsupervised module is  deprecated in version 0.22 and will be removed in version 0.24. The corresponding classes / functions should instead be imported from sklearn.neighbors. Anything that cannot be imported from sklearn.neighbors is now part of the private API.\n",
      "\n"
     ]
    }
   ],
   "source": [
    "from pymatgen.core import Composition\n",
    "from matminer.featurizers.composition import ElementProperty\n",
    "\n",
    "featurizer = ElementProperty.from_preset('magpie') # load the magpie preset --> set of elemental properties \n",
    "feature_vector_H = featurizer.featurize(Composition(\"H\")) # featurize the composition of H    \n",
    "feature_vector_H2O = featurizer.featurize(Composition(\"H2O\")) # featurize the composition of H2O\n",
    "\n",
    "print(len(feature_vector_H))\n",
    "print(len(feature_vector_H2O))\n"
   ]
  },
  {
   "cell_type": "markdown",
   "id": "cb846541",
   "metadata": {},
   "source": [
    "The feature vector contains information about elemental properties like the atomic masses or electronegativity in the structure and also takes statistical values (mean, min, max, var, range) of those properties into account. Since the H structure contains of only one single atom, values like the variance or range are automatically zero which is not the case for the H2O structure."
   ]
  },
  {
   "cell_type": "code",
   "execution_count": 3,
   "id": "2501d4eb",
   "metadata": {},
   "outputs": [
    {
     "name": "stdout",
     "output_type": "stream",
     "text": [
      "preset magpie, elements in the feature vector: 132\n",
      "preset deml, elements in the feature vector: 80\n",
      "preset matminer, elements in the feature vector: 65\n",
      "preset matscholar_el, elements in the feature vector: 1000\n",
      "preset megnet_el, elements in the feature vector: 80\n"
     ]
    }
   ],
   "source": [
    "#test the different presets\n",
    "presets = [\"magpie\", \"deml\", \"matminer\", \"matscholar_el\", \"megnet_el\"] # list contains different presets apart from magpie\n",
    "for pre in presets:\n",
    "    featurizer = ElementProperty.from_preset(pre)\n",
    "    feature_vector_H2O = featurizer.featurize(Composition(\"H2O\"))\n",
    "    print(f\"preset {pre}, elements in the feature vector: {len(feature_vector_H2O)}\")\n",
    "    #print(feature_vector_H2O)\n",
    "    \n",
    "\n"
   ]
  },
  {
   "cell_type": "markdown",
   "id": "25cb844e",
   "metadata": {},
   "source": [
    "Different presets contain different information about the investigated structure. Here are some of the properties that are part of the preset:\n",
    "- magpie --> General materials properties\n",
    "    - Atomic number \n",
    "    - atomic mass\n",
    "    - electronegativity\n",
    "    - periodic table position\n",
    "    - thermal/ electric properties (melting point, conductivity, etc.)\n",
    "    - crystallographic feature (e.g. spacegroup)\n",
    "- deml (data-driven effective model for materials) --> Energy/phase stability\n",
    "    - atomic radius\n",
    "    - ionization energy \n",
    "    - electron affinity\n",
    "- matminer --> Interpretable models\n",
    "    - subset of the magpie data (and excludes some crystallographic data)\n",
    "\n",
    "\n",
    "--> it makes the featurization easier and consistent among different structures so that for example there is no conflict of different electronegativities (e.g. pauling vs. allen). This is crucial if the feature vectors are later used to train a model for new predictions."
   ]
  },
  {
   "cell_type": "code",
   "execution_count": 4,
   "id": "5f3d2cc7",
   "metadata": {},
   "outputs": [
    {
     "data": {
      "application/vnd.jupyter.widget-view+json": {
       "model_id": "152c718fe53846db8427d226be19d0f2",
       "version_major": 2,
       "version_minor": 0
      },
      "text/plain": [
       "ElementProperty:   0%|          | 0/2154 [00:00<?, ?it/s]"
      ]
     },
     "metadata": {},
     "output_type": "display_data"
    },
    {
     "name": "stdout",
     "output_type": "stream",
     "text": [
      "[['MagpieData minimum Number',\n",
      "  'MagpieData minimum AtomicWeight',\n",
      "  0.997741955547722],\n",
      " ['MagpieData minimum Number', 'MagpieData minimum Row', 0.9510486060928031],\n",
      " ['MagpieData maximum Number',\n",
      "  'MagpieData maximum AtomicWeight',\n",
      "  0.9992666504576497],\n",
      " ['MagpieData range Number',\n",
      "  'MagpieData range AtomicWeight',\n",
      "  0.9967739753164336],\n",
      " ['MagpieData mean Number', 'MagpieData mean AtomicWeight', 0.9986266807924157],\n",
      " ['MagpieData mean Number', 'MagpieData mean Row', 0.9587451718427101],\n",
      " ['MagpieData avg_dev Number',\n",
      "  'MagpieData avg_dev AtomicWeight',\n",
      "  0.9974832107882347],\n",
      " ['MagpieData mode Number', 'MagpieData mode AtomicWeight', 0.9986114270946439],\n",
      " ['MagpieData mode Number', 'MagpieData mode Row', 0.9687152282226607],\n",
      " ['MagpieData minimum MendeleevNumber',\n",
      "  'MagpieData range MendeleevNumber',\n",
      "  -0.9919791728140207],\n",
      " ['MagpieData minimum MendeleevNumber',\n",
      "  'MagpieData minimum Column',\n",
      "  0.953111285120005],\n",
      " ['MagpieData mode AtomicWeight', 'MagpieData mode Row', 0.9569395800427947],\n",
      " ['MagpieData minimum Column', 'MagpieData range Column', -0.9858565303389886],\n",
      " ['MagpieData minimum NsValence',\n",
      "  'MagpieData range NsValence',\n",
      "  -0.9991316486178003],\n",
      " ['MagpieData maximum NsValence',\n",
      "  'MagpieData minimum NsUnfilled',\n",
      "  -1.0000000000000007],\n",
      " ['MagpieData maximum NfValence', 'MagpieData range NfValence', 1.0],\n",
      " ['MagpieData mean NfValence',\n",
      "  'MagpieData avg_dev NfValence',\n",
      "  0.9719644777796101],\n",
      " ['MagpieData maximum NsUnfilled',\n",
      "  'MagpieData range NsUnfilled',\n",
      "  0.9990457080517077],\n",
      " ['MagpieData minimum NdUnfilled',\n",
      "  'MagpieData minimum GSmagmom',\n",
      "  0.9999999999999999],\n",
      " ['MagpieData maximum NdUnfilled',\n",
      "  'MagpieData range NdUnfilled',\n",
      "  0.9996600459379787],\n",
      " ['MagpieData mean NdUnfilled',\n",
      "  'MagpieData avg_dev NdUnfilled',\n",
      "  0.9561342041591442],\n",
      " ['MagpieData maximum NfUnfilled', 'MagpieData range NfUnfilled', 1.0],\n",
      " ['MagpieData mean NfUnfilled',\n",
      "  'MagpieData avg_dev NfUnfilled',\n",
      "  0.9810772317097088],\n",
      " ['MagpieData maximum NUnfilled',\n",
      "  'MagpieData range NUnfilled',\n",
      "  0.954687552837887],\n",
      " ['MagpieData maximum GSvolume_pa',\n",
      "  'MagpieData range GSvolume_pa',\n",
      "  0.9656947452061302],\n",
      " ['MagpieData maximum GSbandgap',\n",
      "  'MagpieData range GSbandgap',\n",
      "  0.9972686777683157],\n",
      " ['MagpieData maximum GSmagmom',\n",
      "  'MagpieData range GSmagmom',\n",
      "  0.9999999999998828],\n",
      " ['MagpieData mean GSmagmom', 'MagpieData avg_dev GSmagmom', 0.988890952201815]]\n"
     ]
    }
   ],
   "source": [
    "from matminer.datasets import load_dataset\n",
    "import pandas as pd\n",
    "import pprint\n",
    "\n",
    "\n",
    "bandgaps = load_dataset('matbench_expt_gap')\n",
    "\n",
    "\n",
    "bandgaps_filtered = bandgaps[bandgaps[\"gap expt\"]>0] # filter out compositions with no experimental band gap\n",
    "featurizer = ElementProperty.from_preset('magpie') # load the magpie preset\n",
    "# Convert strings to Composition objects\n",
    "bandgaps_filtered['composition'] = bandgaps_filtered['composition'].apply(Composition)\n",
    " \n",
    "# featurize all compositions of the dataframe append them to it\n",
    "filtered_df = featurizer.featurize_dataframe(\n",
    "    bandgaps_filtered, \n",
    "    col_id='composition',  # DataFrame column containing composition strings\n",
    "    ignore_errors=True,    # Skip problematic entries\n",
    "    return_errors=True     # Track any failures\n",
    ")\n",
    "\n",
    "# calculate the correlation matrix\n",
    "corr_matrix = filtered_df.iloc[:, 1:].corr(method='pearson')\n",
    "\n",
    "high_corr_pairs = []\n",
    "for i in range(len(corr_matrix.columns)): #iterate through rows\n",
    "    for j in range(i + 1, len(corr_matrix.columns)): # iterate through columns\n",
    "        if abs(corr_matrix.iloc[i, j]) > 0.95: # check if correlation is over 0.95\n",
    "            # append the features and their correlation\n",
    "            high_corr_pairs.append([\n",
    "                corr_matrix.columns[i],\n",
    "                corr_matrix.columns[j],\n",
    "                corr_matrix.iloc[i, j]\n",
    "            ])\n",
    "pprint.pprint(high_corr_pairs)\n"
   ]
  },
  {
   "cell_type": "code",
   "execution_count": 5,
   "id": "394f95b3",
   "metadata": {},
   "outputs": [
    {
     "name": "stdout",
     "output_type": "stream",
     "text": [
      "<class 'pandas.core.series.Series'>\n",
      "<class 'pymatgen.core.structure.Structure'>\n"
     ]
    },
    {
     "data": {
      "application/vnd.jupyter.widget-view+json": {
       "model_id": "5c85b6d3a8f545af89dfcd6945c16082",
       "version_major": 2,
       "version_minor": 0
      },
      "text/plain": [
       "SineCoulombMatrix:   0%|          | 0/1296 [00:00<?, ?it/s]"
      ]
     },
     "metadata": {},
     "output_type": "display_data"
    },
    {
     "name": "stderr",
     "output_type": "stream",
     "text": [
      "/home/da36nik/miniconda3/envs/MI_09/lib/python3.8/site-packages/matminer/featurizers/structure.py:743: ComplexWarning:\n",
      "\n",
      "Casting complex values to real discards the imaginary part\n",
      "\n",
      "/home/da36nik/miniconda3/envs/MI_09/lib/python3.8/site-packages/matminer/featurizers/structure.py:743: ComplexWarning:\n",
      "\n",
      "Casting complex values to real discards the imaginary part\n",
      "\n",
      "/home/da36nik/miniconda3/envs/MI_09/lib/python3.8/site-packages/matminer/featurizers/structure.py:743: ComplexWarning:\n",
      "\n",
      "Casting complex values to real discards the imaginary part\n",
      "\n",
      "/home/da36nik/miniconda3/envs/MI_09/lib/python3.8/site-packages/matminer/featurizers/structure.py:743: ComplexWarning:\n",
      "\n",
      "Casting complex values to real discards the imaginary part\n",
      "\n",
      "/home/da36nik/miniconda3/envs/MI_09/lib/python3.8/site-packages/matminer/featurizers/structure.py:743: ComplexWarning:\n",
      "\n",
      "Casting complex values to real discards the imaginary part\n",
      "\n"
     ]
    }
   ],
   "source": [
    "from matminer.featurizers.structure import SineCoulombMatrix\n",
    "\n",
    "\n",
    "scm = SineCoulombMatrix(flatten=True)\n",
    "\n",
    "phonon_data = load_dataset(\"phonon_dielectric_mp\") # load phonon data from Materials Project\n",
    "# check the variable type\n",
    "print(type(phonon_data[\"structure\"]))\n",
    "print(type(phonon_data[\"structure\"].iloc[0]))\n",
    "\n",
    "#Fit the Sine Coulomb Matrix to a list of structures\n",
    "scm.fit(phonon_data['structure']) \n",
    "\n",
    "\n",
    "\n",
    "# Add sine Coulomb matrix eigenvalues as features\n",
    "df_scm = scm.featurize_dataframe(\n",
    "    phonon_data, \n",
    "    col_id='structure',  # Column containing pymatgen Structure objects\n",
    "    ignore_errors=True,  # Skip any structures that fail featurization\n",
    "    return_errors=True   # Include error information if needed\n",
    ")\n",
    "\n"
   ]
  },
  {
   "cell_type": "markdown",
   "id": "97242c5b",
   "metadata": {},
   "source": [
    "Elemental features are only computed from the chemical composition and the arrangement of atoms in space is not considered. However the SCM features takes both the composition and the position of the atom in space into account. Elemtal features are therefore the same for all structures with the same formula whereas the SCM features can distinguish between them (e.g. when there have different crystal structures).\n",
    "\n",
    "steps:\n",
    "- for each structure in the loaded data set the SCM is computed\n",
    "- then the eigenvalues for the structures are calculated\n",
    "- the eigenvalues are appended as features to the phonon data frame"
   ]
  },
  {
   "cell_type": "code",
   "execution_count": 10,
   "id": "091f2b7b",
   "metadata": {},
   "outputs": [
    {
     "data": {
      "application/vnd.jupyter.widget-view+json": {
       "model_id": "d49cbbcd9d0f44c6a9d87b16f323653e",
       "version_major": 2,
       "version_minor": 0
      },
      "text/plain": [
       "SineCoulombMatrix:   0%|          | 0/1296 [00:00<?, ?it/s]"
      ]
     },
     "metadata": {},
     "output_type": "display_data"
    },
    {
     "name": "stderr",
     "output_type": "stream",
     "text": [
      "/home/da36nik/miniconda3/envs/MI_09/lib/python3.8/site-packages/matminer/featurizers/structure.py:743: ComplexWarning:\n",
      "\n",
      "Casting complex values to real discards the imaginary part\n",
      "\n",
      "/home/da36nik/miniconda3/envs/MI_09/lib/python3.8/site-packages/matminer/featurizers/structure.py:743: ComplexWarning:\n",
      "\n",
      "Casting complex values to real discards the imaginary part\n",
      "\n",
      "/home/da36nik/miniconda3/envs/MI_09/lib/python3.8/site-packages/matminer/featurizers/structure.py:743: ComplexWarning:\n",
      "\n",
      "Casting complex values to real discards the imaginary part\n",
      "\n",
      "/home/da36nik/miniconda3/envs/MI_09/lib/python3.8/site-packages/matminer/featurizers/structure.py:743: ComplexWarning:\n",
      "\n",
      "Casting complex values to real discards the imaginary part\n",
      "\n",
      "/home/da36nik/miniconda3/envs/MI_09/lib/python3.8/site-packages/matminer/featurizers/structure.py:743: ComplexWarning:\n",
      "\n",
      "Casting complex values to real discards the imaginary part\n",
      "\n"
     ]
    }
   ],
   "source": [
    "from matminer.featurizers.structure import SineCoulombMatrix\n",
    "from matminer.datasets import load_dataset\n",
    "\n",
    "scm = SineCoulombMatrix(flatten=True)\n",
    "phonon_data = load_dataset(\"phonon_dielectric_mp\")\n",
    "#print(type(phonon_data[\"structure\"].iloc[0]))\n",
    "\n",
    "scm.fit(phonon_data['structure'])\n",
    "\n",
    "# compute the eigenvalues of the SineCoulombMatrix and append these to the phonon data\n",
    "phonon_data = scm.featurize_dataframe(\n",
    "    phonon_data,\n",
    "    col_id='structure',  # Column containing Structure objects\n",
    "    ignore_errors=True,\n",
    "    return_errors=True\n",
    ")\n",
    "\n"
   ]
  },
  {
   "cell_type": "code",
   "execution_count": 28,
   "id": "8edf36b1",
   "metadata": {},
   "outputs": [
    {
     "name": "stderr",
     "output_type": "stream",
     "text": [
      "/home/da36nik/miniconda3/envs/MI_09/lib/python3.8/site-packages/matminer/utils/data.py:430: ParserWarning:\n",
      "\n",
      "Length of header or names does not match length of data. This leads to a loss of data with index_col=False.\n",
      "\n"
     ]
    },
    {
     "name": "stdout",
     "output_type": "stream",
     "text": [
      "2025-06-16 20:19:00 INFO     AutoFeaturizer: Starting fitting.\n",
      "2025-06-16 20:19:00 INFO     AutoFeaturizer: Adding compositions from structures.\n",
      "2025-06-16 20:19:00 INFO     AutoFeaturizer: Guessing oxidation states of structures if they were not present in input.\n"
     ]
    },
    {
     "name": "stderr",
     "output_type": "stream",
     "text": [
      "/home/da36nik/miniconda3/envs/MI_09/lib/python3.8/site-packages/matminer/utils/data.py:466: FutureWarning:\n",
      "\n",
      "The frame.append method is deprecated and will be removed from pandas in a future version. Use pandas.concat instead.\n",
      "\n"
     ]
    },
    {
     "data": {
      "application/vnd.jupyter.widget-view+json": {
       "model_id": "f758f41d91254ccc96fd1ee2b3b93703",
       "version_major": 2,
       "version_minor": 0
      },
      "text/plain": [
       "StructureToOxidStructure:   0%|          | 0/1296 [00:00<?, ?it/s]"
      ]
     },
     "metadata": {},
     "output_type": "display_data"
    },
    {
     "data": {
      "application/vnd.jupyter.widget-view+json": {
       "model_id": "5933c349f2434a99850ffbbcf2b910e4",
       "version_major": 2,
       "version_minor": 0
      },
      "text/plain": [
       "StructureToComposition:   0%|          | 0/1296 [00:00<?, ?it/s]"
      ]
     },
     "metadata": {},
     "output_type": "display_data"
    },
    {
     "name": "stdout",
     "output_type": "stream",
     "text": [
      "2025-06-16 20:19:02 INFO     AutoFeaturizer: Guessing oxidation states of compositions, as they were not present in input.\n"
     ]
    },
    {
     "data": {
      "application/vnd.jupyter.widget-view+json": {
       "model_id": "7f0aeb22e25e4dcea26b272eb9a117be",
       "version_major": 2,
       "version_minor": 0
      },
      "text/plain": [
       "CompositionToOxidComposition:   0%|          | 0/1296 [00:00<?, ?it/s]"
      ]
     },
     "metadata": {},
     "output_type": "display_data"
    },
    {
     "name": "stdout",
     "output_type": "stream",
     "text": [
      "2025-06-16 20:19:02 INFO     AutoFeaturizer: Will remove YangSolidSolution because it's fraction passing the precheck for this dataset (0.2800925925925926) was less than the minimum (0.9)\n",
      "2025-06-16 20:19:02 INFO     AutoFeaturizer: Will remove Miedema because it's fraction passing the precheck for this dataset (0.2800925925925926) was less than the minimum (0.9)\n",
      "2025-06-16 20:19:02 INFO     AutoFeaturizer: Guessing oxidation states of structures if they were not present in input.\n"
     ]
    },
    {
     "data": {
      "application/vnd.jupyter.widget-view+json": {
       "model_id": "8c0e700a81844cdbaec9b9560fd78751",
       "version_major": 2,
       "version_minor": 0
      },
      "text/plain": [
       "StructureToOxidStructure:   0%|          | 0/1296 [00:00<?, ?it/s]"
      ]
     },
     "metadata": {},
     "output_type": "display_data"
    },
    {
     "name": "stdout",
     "output_type": "stream",
     "text": [
      "2025-06-16 20:19:03 INFO     AutoFeaturizer: Will remove GlobalInstabilityIndex because it's fraction passing the precheck for this dataset (0.8179012345679012) was less than the minimum (0.9)\n",
      "2025-06-16 20:19:03 INFO     AutoFeaturizer: Featurizer type bandstructure not in the dataframe to be fitted. Skipping...\n",
      "2025-06-16 20:19:03 INFO     AutoFeaturizer: Featurizer type dos not in the dataframe to be fitted. Skipping...\n",
      "2025-06-16 20:19:03 INFO     AutoFeaturizer: Finished fitting.\n",
      "2025-06-16 20:19:03 INFO     AutoFeaturizer: Starting transforming.\n",
      "2025-06-16 20:19:03 INFO     AutoFeaturizer: Featurizing with ElementProperty.\n"
     ]
    },
    {
     "data": {
      "application/vnd.jupyter.widget-view+json": {
       "model_id": "34b223771112429480c30551d26d36d3",
       "version_major": 2,
       "version_minor": 0
      },
      "text/plain": [
       "ElementProperty:   0%|          | 0/1296 [00:00<?, ?it/s]"
      ]
     },
     "metadata": {},
     "output_type": "display_data"
    },
    {
     "name": "stdout",
     "output_type": "stream",
     "text": [
      "2025-06-16 20:19:04 INFO     AutoFeaturizer: Featurizing with OxidationStates.\n"
     ]
    },
    {
     "data": {
      "application/vnd.jupyter.widget-view+json": {
       "model_id": "117fba742d474a91ac7f32d508e21e58",
       "version_major": 2,
       "version_minor": 0
      },
      "text/plain": [
       "OxidationStates:   0%|          | 0/1296 [00:00<?, ?it/s]"
      ]
     },
     "metadata": {},
     "output_type": "display_data"
    },
    {
     "name": "stdout",
     "output_type": "stream",
     "text": [
      "2025-06-16 20:19:04 INFO     AutoFeaturizer: Featurizing with ElectronAffinity.\n"
     ]
    },
    {
     "data": {
      "application/vnd.jupyter.widget-view+json": {
       "model_id": "8346bb681dde43f7a7d68226aa59d8db",
       "version_major": 2,
       "version_minor": 0
      },
      "text/plain": [
       "ElectronAffinity:   0%|          | 0/1296 [00:00<?, ?it/s]"
      ]
     },
     "metadata": {},
     "output_type": "display_data"
    },
    {
     "name": "stdout",
     "output_type": "stream",
     "text": [
      "2025-06-16 20:19:04 INFO     AutoFeaturizer: Featurizing with IonProperty.\n"
     ]
    },
    {
     "data": {
      "application/vnd.jupyter.widget-view+json": {
       "model_id": "b73b9b3aa51044a09c8be2f623f65560",
       "version_major": 2,
       "version_minor": 0
      },
      "text/plain": [
       "IonProperty:   0%|          | 0/1296 [00:00<?, ?it/s]"
      ]
     },
     "metadata": {},
     "output_type": "display_data"
    },
    {
     "name": "stdout",
     "output_type": "stream",
     "text": [
      "2025-06-16 20:19:04 INFO     AutoFeaturizer: Featurizing with DensityFeatures.\n"
     ]
    },
    {
     "data": {
      "application/vnd.jupyter.widget-view+json": {
       "model_id": "e8ef2241dc1c475aadd0cff9d549c44e",
       "version_major": 2,
       "version_minor": 0
      },
      "text/plain": [
       "DensityFeatures:   0%|          | 0/1296 [00:00<?, ?it/s]"
      ]
     },
     "metadata": {},
     "output_type": "display_data"
    },
    {
     "name": "stdout",
     "output_type": "stream",
     "text": [
      "2025-06-16 20:19:05 INFO     AutoFeaturizer: Featurizing with GlobalSymmetryFeatures.\n"
     ]
    },
    {
     "data": {
      "application/vnd.jupyter.widget-view+json": {
       "model_id": "c104a537e86f4bcebb70e4a399bac2ee",
       "version_major": 2,
       "version_minor": 0
      },
      "text/plain": [
       "GlobalSymmetryFeatures:   0%|          | 0/1296 [00:00<?, ?it/s]"
      ]
     },
     "metadata": {},
     "output_type": "display_data"
    },
    {
     "name": "stdout",
     "output_type": "stream",
     "text": [
      "2025-06-16 20:19:07 INFO     AutoFeaturizer: Featurizing with EwaldEnergy.\n"
     ]
    },
    {
     "data": {
      "application/vnd.jupyter.widget-view+json": {
       "model_id": "af0514d37f4e4f12b6f4d17e9fa18c19",
       "version_major": 2,
       "version_minor": 0
      },
      "text/plain": [
       "EwaldEnergy:   0%|          | 0/1296 [00:00<?, ?it/s]"
      ]
     },
     "metadata": {},
     "output_type": "display_data"
    },
    {
     "name": "stdout",
     "output_type": "stream",
     "text": [
      "2025-06-16 20:19:11 INFO     AutoFeaturizer: Featurizing with SineCoulombMatrix.\n"
     ]
    },
    {
     "data": {
      "application/vnd.jupyter.widget-view+json": {
       "model_id": "d5e8cd3099a244f68fbfc3904efcbff1",
       "version_major": 2,
       "version_minor": 0
      },
      "text/plain": [
       "SineCoulombMatrix:   0%|          | 0/1296 [00:00<?, ?it/s]"
      ]
     },
     "metadata": {},
     "output_type": "display_data"
    },
    {
     "name": "stderr",
     "output_type": "stream",
     "text": [
      "/home/da36nik/miniconda3/envs/MI_09/lib/python3.8/site-packages/matminer/featurizers/structure.py:743: ComplexWarning:\n",
      "\n",
      "Casting complex values to real discards the imaginary part\n",
      "\n",
      "/home/da36nik/miniconda3/envs/MI_09/lib/python3.8/site-packages/matminer/featurizers/structure.py:743: ComplexWarning:\n",
      "\n",
      "Casting complex values to real discards the imaginary part\n",
      "\n",
      "/home/da36nik/miniconda3/envs/MI_09/lib/python3.8/site-packages/matminer/featurizers/structure.py:743: ComplexWarning:\n",
      "\n",
      "Casting complex values to real discards the imaginary part\n",
      "\n",
      "/home/da36nik/miniconda3/envs/MI_09/lib/python3.8/site-packages/matminer/featurizers/structure.py:743: ComplexWarning:\n",
      "\n",
      "Casting complex values to real discards the imaginary part\n",
      "\n",
      "/home/da36nik/miniconda3/envs/MI_09/lib/python3.8/site-packages/matminer/featurizers/structure.py:743: ComplexWarning:\n",
      "\n",
      "Casting complex values to real discards the imaginary part\n",
      "\n"
     ]
    },
    {
     "name": "stdout",
     "output_type": "stream",
     "text": [
      "2025-06-16 20:19:12 INFO     AutoFeaturizer: Featurizing with StructuralComplexity.\n"
     ]
    },
    {
     "data": {
      "application/vnd.jupyter.widget-view+json": {
       "model_id": "ba65967258b6471cb99e4bb9d6cc0322",
       "version_major": 2,
       "version_minor": 0
      },
      "text/plain": [
       "StructuralComplexity:   0%|          | 0/1296 [00:00<?, ?it/s]"
      ]
     },
     "metadata": {},
     "output_type": "display_data"
    },
    {
     "name": "stdout",
     "output_type": "stream",
     "text": [
      "2025-06-16 20:19:19 INFO     AutoFeaturizer: Featurizer type bandstructure not in the dataframe. Skipping...\n",
      "2025-06-16 20:19:19 INFO     AutoFeaturizer: Featurizer type dos not in the dataframe. Skipping...\n",
      "2025-06-16 20:19:19 INFO     AutoFeaturizer: Finished transforming.\n"
     ]
    }
   ],
   "source": [
    "from automatminer.featurization import AutoFeaturizer\n",
    "\n",
    "# Load the dataset\n",
    "#phonon_data = load_dataset(\"phonon_dielectric_mp\")\n",
    "\n",
    "# Initialize the AutoFeaturizer with the express preset\n",
    "autofeaturizer = AutoFeaturizer(preset=\"express\")\n",
    "\n",
    "# compute features from data set with preset \"express\"\n",
    "phonon_data_feat = autofeaturizer.fit_transform(phonon_data, target=None)"
   ]
  },
  {
   "cell_type": "code",
   "execution_count": 46,
   "id": "547acad2",
   "metadata": {},
   "outputs": [
    {
     "name": "stdout",
     "output_type": "stream",
     "text": [
      "Shape of featurized dataframe: (1296, 203)\n",
      "Shape of fully cleaned dataframe: (1296, 202)\n",
      "Number of samples:  1296\n",
      "Number of features:  202\n"
     ]
    },
    {
     "name": "stderr",
     "output_type": "stream",
     "text": [
      "/tmp/ipykernel_492808/4075107287.py:8: FutureWarning:\n",
      "\n",
      "Dropping of nuisance columns in DataFrame reductions (with 'numeric_only=None') is deprecated; in a future version this will raise TypeError.  Select only valid columns before calling the reduction.\n",
      "\n"
     ]
    }
   ],
   "source": [
    "print(\"Shape of featurized dataframe:\", phonon_data_feat.shape)\n",
    "# drop columns with more than 1% NaN\n",
    "nan_fraction = phonon_data_feat.isna().mean() # pandas dataframe with fractional nan content for each column\n",
    "cols_to_keep = nan_fraction[nan_fraction <= 0.01].index\n",
    "phonon_data_feat_clean = phonon_data_feat[cols_to_keep] #select the columns\n",
    "\n",
    "# replace the NaN values with the mean of each column\n",
    "phonon_data_feat_clean = phonon_data_feat_clean.fillna(phonon_data_feat_clean.mean()) \n",
    "print(\"Shape of fully cleaned dataframe:\", phonon_data_feat_clean.shape)\n",
    "print(\"Number of samples: \", phonon_data_feat_clean.shape[0])\n",
    "print(\"Number of features: \", phonon_data_feat_clean.shape[1])\n",
    "\n",
    "\n",
    "\n"
   ]
  }
 ],
 "metadata": {
  "kernelspec": {
   "display_name": "MI_09",
   "language": "python",
   "name": "python3"
  },
  "language_info": {
   "codemirror_mode": {
    "name": "ipython",
    "version": 3
   },
   "file_extension": ".py",
   "mimetype": "text/x-python",
   "name": "python",
   "nbconvert_exporter": "python",
   "pygments_lexer": "ipython3",
   "version": "3.8.0"
  }
 },
 "nbformat": 4,
 "nbformat_minor": 5
}
