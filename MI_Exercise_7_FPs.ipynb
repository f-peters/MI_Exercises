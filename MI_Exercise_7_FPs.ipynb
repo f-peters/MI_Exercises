{
 "cells": [
  {
   "cell_type": "markdown",
   "id": "3efb6541",
   "metadata": {},
   "source": [
    "### Explain the \"add_oxidation_state_by_guess()\" method\n",
    "\n",
    "- The method updates the oxidation states of its elements based on found guesses \n",
    "- The method first creates a list of oxidation state dictionaries \"oxi_guess\" which is defined by creating an instance of the composition class (using a porperty of the CollectionSite class) and then directly using the \"oxi_state_guesses\" method of this class.\n",
    "- oxi_state_guesses checks if the composition is charge balanced and returns all possible combinations of oxidation states\n",
    "- If no guesses are found \"0\" is used for each element in the dictionary\n",
    "- Afterwards the first guess (e.g. first element of the list) is used to update the oxidation state of each element using the add_oxidation_state_by_element method of the SiteCollection class\n",
    "- method return the object itself with the updated oxidation states\n",
    "\n",
    "--> The method takes the chemical formula or ratio of elements present in the material into account"
   ]
  },
  {
   "cell_type": "markdown",
   "id": "3df2b729",
   "metadata": {},
   "source": [
    "### Explain get_valances method:\n",
    "- The method first determines the symmetry of the structure\n",
    "- Afterwards the sites are sorted by electronegativity\n",
    "- For each symmetry distinct site the method looks for possible oxidation state levels and estimates the likelyhood of those. Based on the probability only plausible oxidation states are considered. Furthermore the charge neutrality is taken into account.\n",
    "- Method returns a list (of lists) containing the possible oxidation states for each site in the structure\n",
    "\n",
    "Material properties taken into account here:\n",
    "- Element types\n",
    "- Crystal structure and atomic positions\n",
    "- Electronegativity"
   ]
  },
  {
   "cell_type": "markdown",
   "id": "d0f1deea",
   "metadata": {},
   "source": [
    "### Advantages and disadvantages of the methods\n",
    "\n",
    "add_oxidation_state_by_guess:\n",
    "- (+) no other material information other than the chemical formula is needed\n",
    "- (+) calculation to find possible oxidation states probably takes less time\n",
    "- (-) results are less accurate compared to the compared to the get_valances method since it is only a guess\n",
    "\n",
    "get_valances:\n",
    "- (+) takes more material properties into account and can therefore more precisely predict the oxidation states of the material\n",
    "- (-) Calculation takes probably more time\n",
    "- (-) Information about the structure and electronegativities of the structure is needed"
   ]
  },
  {
   "cell_type": "markdown",
   "id": "e3985aad",
   "metadata": {},
   "source": [
    "### Method to use for a compound containing Pt\n",
    "\n",
    "The more suitable method probably would be get_valences since it takes more material properties into account. Pt has a Pauling-EN of 2.28. Therefore a negative and positive oxidation state is possible depending on the properties of the other elements in the compound. For bonding partners with a high EN (e.g. F) a positive oxidation state is most likely. On the other hand for bonding partners with a lower EN (e.g. Na) a negative oxidation state is more likely. Therefore since both positive and negative oxidation states are possible, simply guessing the oxidation state should not give very reliable results."
   ]
  },
  {
   "cell_type": "markdown",
   "id": "23bf583d",
   "metadata": {},
   "source": [
    "### Querying a database"
   ]
  },
  {
   "cell_type": "code",
   "execution_count": 4,
   "id": "92aa8d55",
   "metadata": {},
   "outputs": [
    {
     "name": "stderr",
     "output_type": "stream",
     "text": [
      "https://alexandria.icams.rub.de/pbe/: 154it [01:12,  1.85it/s]\n"
     ]
    }
   ],
   "source": [
    "from pymatgen.ext.optimade import OptimadeRester\n",
    "\n",
    "#find all aliases for OptimadeRester\n",
    "#print(OptimadeRester.aliases)\n",
    "\n",
    "\n",
    "resource_url = 'https://alexandria.icams.rub.de/pbe/'\n",
    "\n",
    "#connect to the Alexandria database and search for structures with Li and K\n",
    "with OptimadeRester(resource_url, timeout=60) as o:\n",
    "    results = o.get_structures_with_filter('elements HAS ALL \"Li\" AND elements HAS ALL \"K\" AND nelements = 2')\n",
    "\n",
    "# result is a dictionary that contains a dictionary of structures"
   ]
  },
  {
   "cell_type": "code",
   "execution_count": 6,
   "id": "244ab7a9",
   "metadata": {},
   "outputs": [
    {
     "ename": "ImportError",
     "evalue": "cannot import name 'SpaceGroupAnalyzer' from 'pymatgen.symmetry.analyzer' (/home/da36nik/miniconda3/envs/MI_07/lib/python3.10/site-packages/pymatgen/symmetry/analyzer.py)",
     "output_type": "error",
     "traceback": [
      "\u001b[0;31m---------------------------------------------------------------------------\u001b[0m",
      "\u001b[0;31mImportError\u001b[0m                               Traceback (most recent call last)",
      "Cell \u001b[0;32mIn[6], line 2\u001b[0m\n\u001b[1;32m      1\u001b[0m \u001b[38;5;28;01mimport\u001b[39;00m\u001b[38;5;250m \u001b[39m\u001b[38;5;21;01mmatplotlib\u001b[39;00m\u001b[38;5;21;01m.\u001b[39;00m\u001b[38;5;21;01mpyplot\u001b[39;00m\u001b[38;5;250m \u001b[39m\u001b[38;5;28;01mas\u001b[39;00m\u001b[38;5;250m \u001b[39m\u001b[38;5;21;01mplt\u001b[39;00m\n\u001b[0;32m----> 2\u001b[0m \u001b[38;5;28;01mfrom\u001b[39;00m\u001b[38;5;250m \u001b[39m\u001b[38;5;21;01mpymatgen\u001b[39;00m\u001b[38;5;21;01m.\u001b[39;00m\u001b[38;5;21;01msymmetry\u001b[39;00m\u001b[38;5;21;01m.\u001b[39;00m\u001b[38;5;21;01manalyzer\u001b[39;00m\u001b[38;5;250m \u001b[39m\u001b[38;5;28;01mimport\u001b[39;00m SpaceGroupAnalyzer\n\u001b[1;32m      3\u001b[0m \u001b[38;5;66;03m# get the number of structures returned\u001b[39;00m\n\u001b[1;32m      4\u001b[0m num_structures \u001b[38;5;241m=\u001b[39m \u001b[38;5;28mlen\u001b[39m(results[resource_url]\u001b[38;5;241m.\u001b[39mkeys())\n",
      "\u001b[0;31mImportError\u001b[0m: cannot import name 'SpaceGroupAnalyzer' from 'pymatgen.symmetry.analyzer' (/home/da36nik/miniconda3/envs/MI_07/lib/python3.10/site-packages/pymatgen/symmetry/analyzer.py)"
     ]
    }
   ],
   "source": [
    "import matplotlib.pyplot as plt\n",
    "from pymatgen.symmetry.analyzer import SpaceGroupAnalyzer\n",
    "# get the number of structures returned\n",
    "num_structures = len(results[resource_url].keys())\n",
    "print(f'Number of structures with Li and K: {num_structures}')\n",
    "\n",
    "# print the first structure\n",
    "list_of_sites = []\n",
    "# iterate over the structures and get the number of sites\n",
    "for key in results[resource_url].keys():\n",
    "    structure = results[resource_url][key] # get the structure from the dictionary\n",
    "    list_of_sites.append(structure.num_sites) # append the number of sites to the list\n",
    "\n",
    "#plot histogram of number of sites\n",
    "plt.hist(list_of_sites, bins=range(1, max(list_of_sites) + 2), align='left', rwidth=0.8)\n",
    "plt.xlabel('Number of sites')\n",
    "plt.ylabel('Number of structures')\n",
    "plt.title('Histogram of number of sites in structures with Li and K')\n",
    "plt.xticks(range(0, max(list_of_sites) + 1, 5))\n",
    "#show only every second tick\n",
    "plt.grid(axis='y')\n",
    "plt.show()\n",
    "\n",
    "\"\"\"\n",
    "# Collect space group types for all structures\n",
    "spacegroup_types = []\n",
    "for key in results[resource_url]:\n",
    "    structure = results[resource_url][key]\n",
    "    sga = SpaceGroupAnalyzer(structure)\n",
    "    spacegroup_types.append(sga.get_space_group_symbol())\n",
    "\n",
    "# Count occurrences of each space group type\n",
    "from collections import Counter\n",
    "sg_counter = Counter(spacegroup_types)\n",
    "\n",
    "# Plot the distribution\n",
    "plt.figure(figsize=(10, 5))\n",
    "plt.bar(sg_counter.keys(), sg_counter.values())\n",
    "plt.xlabel('Space group type (symbol)')\n",
    "plt.ylabel('Number of structures')\n",
    "plt.title('Distribution of space group types')\n",
    "plt.xticks(rotation=90)\n",
    "plt.tight_layout()\n",
    "plt.show()\n",
    "\"\"\""
   ]
  }
 ],
 "metadata": {
  "kernelspec": {
   "display_name": "MI_07",
   "language": "python",
   "name": "python3"
  },
  "language_info": {
   "codemirror_mode": {
    "name": "ipython",
    "version": 3
   },
   "file_extension": ".py",
   "mimetype": "text/x-python",
   "name": "python",
   "nbconvert_exporter": "python",
   "pygments_lexer": "ipython3",
   "version": "3.10.0"
  }
 },
 "nbformat": 4,
 "nbformat_minor": 5
}
