{
 "cells": [
  {
   "cell_type": "markdown",
   "id": "77192893",
   "metadata": {},
   "source": [
    "Linear and Ridge Regression with scaling"
   ]
  },
  {
   "cell_type": "code",
   "execution_count": 3,
   "id": "ff6ec4df",
   "metadata": {},
   "outputs": [
    {
     "name": "stdout",
     "output_type": "stream",
     "text": [
      "Linear Regression\n",
      "R2 training set: 0.8924958320544908\n",
      "MSE training set 785.76\n",
      "R2 test set: 0.8467519179367322\n",
      "MSE test set 1128.26\n",
      "Ridge Regression\n",
      "R2 training set: 0.8841624235615133\n",
      "MSE training set 846.68\n",
      "R2 test set: 0.8628997132223486\n",
      "MSE test set 1009.37\n"
     ]
    }
   ],
   "source": [
    "import numpy as np\n",
    "import matplotlib.pyplot as plt\n",
    "from pymatgen.core.periodic_table import Element\n",
    "from sklearn.linear_model import LinearRegression, Ridge\n",
    "from sklearn.model_selection import train_test_split\n",
    "from sklearn.preprocessing import StandardScaler\n",
    "from sklearn.metrics import mean_squared_error\n",
    "\n",
    "# Generate some data with noise\n",
    "prng = np.random.RandomState(1234567890)\n",
    "atomic_mass=[]\n",
    "Z=np.arange(1,119)\n",
    "\n",
    "noise = prng.normal(0,30, len(Z))\n",
    "\n",
    "for ielement, element in enumerate(Z):\n",
    "    el=Element.from_Z(element)\n",
    "    # add noise to the first datapoints\n",
    "    atomic_mass.append(el.atomic_mass+noise[ielement])\n",
    "\n",
    "X=np.vstack((Z,Z**2,Z**3, Z**4, Z**5, Z**6)).T\n",
    "y=atomic_mass\n",
    "\n",
    "# Split the data into train and test set\n",
    "X_train, X_test, y_train, y_test = train_test_split(X, y, random_state=42)\n",
    "\n",
    "# Apply scaling to train and test sets\n",
    "scaler = StandardScaler().fit(X_train)\n",
    "X_train = scaler.transform(X_train)\n",
    "X_test = scaler.transform(X_test)\n",
    "\n",
    "lr = LinearRegression().fit(X_train,y_train)\n",
    "\n",
    "# Get LR score for train and test sets \n",
    "# Training data\n",
    "print(\"Linear Regression\")\n",
    "print('R2 training set:',lr.score(X_train,y_train))\n",
    "\n",
    "pred_train = lr.predict(X_train)\n",
    "mse_train = mean_squared_error(y_train, pred_train)\n",
    "print('MSE training set', round(mse_train, 2))\n",
    "\n",
    "# Test data\n",
    "print('R2 test set:',lr.score(X_test,y_test))\n",
    "\n",
    "pred = lr.predict(X_test)\n",
    "mse_test =mean_squared_error(y_test, pred)\n",
    "print('MSE test set', round(mse_test, 2))\n",
    "\n",
    "\n",
    "# Ridge regression\n",
    "ridge=Ridge(alpha=1, max_iter=100000).fit(X_train,y_train)\n",
    "\n",
    "# Get LR score for train and test sets #\n",
    "print(\"Ridge Regression\")\n",
    "# Training data\n",
    "print('R2 training set:',ridge.score(X_train,y_train))\n",
    "\n",
    "pred_train = ridge.predict(X_train)\n",
    "mse_train = mean_squared_error(y_train, pred_train)\n",
    "print('MSE training set', round(mse_train, 2))\n",
    "\n",
    "# Test data\n",
    "print('R2 test set:', ridge.score(X_test, y_test))\n",
    "\n",
    "pred = ridge.predict(X_test)\n",
    "mse_test =mean_squared_error(y_test, pred)\n",
    "print('MSE test set', round(mse_test, 2))"
   ]
  },
  {
   "cell_type": "markdown",
   "id": "7f43fe97",
   "metadata": {},
   "source": [
    "Linear and Ridge regression without scaling"
   ]
  },
  {
   "cell_type": "code",
   "execution_count": 4,
   "id": "cca82185",
   "metadata": {},
   "outputs": [
    {
     "name": "stdout",
     "output_type": "stream",
     "text": [
      "Linear Regression\n",
      "R2 training set: 0.8924958320537993\n",
      "MSE training set 785.76\n",
      "R2 test set: 0.8467518001502304\n",
      "MSE test set 1128.26\n",
      "Ridge Regression\n",
      "R2 training set: 0.8924851165327834\n",
      "MSE training set 785.84\n",
      "R2 test set: 0.8479047113520315\n",
      "MSE test set 1119.77\n"
     ]
    },
    {
     "name": "stderr",
     "output_type": "stream",
     "text": [
      "/home/da36nik/miniconda3/envs/MI_10/lib/python3.10/site-packages/sklearn/linear_model/_ridge.py:204: LinAlgWarning: Ill-conditioned matrix (rcond=5.51717e-25): result may not be accurate.\n",
      "  return linalg.solve(A, Xy, assume_a=\"pos\", overwrite_a=True).T\n"
     ]
    }
   ],
   "source": [
    "# Generate some data with noise\n",
    "prng = np.random.RandomState(1234567890)\n",
    "atomic_mass=[]\n",
    "Z=np.arange(1,119)\n",
    "\n",
    "noise = prng.normal(0,30, len(Z))\n",
    "\n",
    "for ielement, element in enumerate(Z):\n",
    "    el=Element.from_Z(element)\n",
    "    # add noise to the first datapoints\n",
    "    atomic_mass.append(el.atomic_mass+noise[ielement])\n",
    "\n",
    "X=np.vstack((Z,Z**2,Z**3, Z**4, Z**5, Z**6)).T\n",
    "y=atomic_mass\n",
    "\n",
    "# Split the data into train and test set\n",
    "X_train, X_test, y_train, y_test = train_test_split(X, y, random_state=42)\n",
    "\n",
    "lr = LinearRegression().fit(X_train,y_train)\n",
    "\n",
    "# Get LR score for train and test sets \n",
    "# Training data\n",
    "print(\"Linear Regression\")\n",
    "print('R2 training set:',lr.score(X_train,y_train))\n",
    "\n",
    "pred_train = lr.predict(X_train)\n",
    "mse_train = mean_squared_error(y_train, pred_train)\n",
    "print('MSE training set', round(mse_train, 2))\n",
    "\n",
    "# Test data\n",
    "print('R2 test set:',lr.score(X_test,y_test))\n",
    "\n",
    "pred = lr.predict(X_test)\n",
    "mse_test =mean_squared_error(y_test, pred)\n",
    "print('MSE test set', round(mse_test, 2))\n",
    "\n",
    "\n",
    "# Ridge regression\n",
    "ridge=Ridge(alpha=1, max_iter=100000).fit(X_train,y_train)\n",
    "\n",
    "print(\"Ridge Regression\")\n",
    "# Get LR score for train and test sets \n",
    "# Training data\n",
    "print('R2 training set:',ridge.score(X_train,y_train))\n",
    "\n",
    "pred_train = ridge.predict(X_train)\n",
    "mse_train = mean_squared_error(y_train, pred_train)\n",
    "print('MSE training set', round(mse_train, 2))\n",
    "\n",
    "# Test data\n",
    "print('R2 test set:', ridge.score(X_test, y_test))\n",
    "\n",
    "pred = ridge.predict(X_test)\n",
    "mse_test =mean_squared_error(y_test, pred)\n",
    "print('MSE test set', round(mse_test, 2))"
   ]
  },
  {
   "cell_type": "markdown",
   "id": "cb037910",
   "metadata": {},
   "source": [
    "Influence on the scaling:\n",
    "- same performance (R2 and MSE nearly the same) for linear regression\n",
    "- For ridge regression the performance without the scaling is worse\n",
    "\n",
    "--> the standard scaler transforms each feature that it has a mean of 0 and a standard deviation of 1. The linear model finds the fit regardless of the feature scale (therefore same performance). Since the ridge regression model penalizes large weights. This penalty will disproportionately hit larger values which leads to a shrinking of the weights of these features (even if there are more important). The scaling removes this problem which explains the worse model performance without the scaling."
   ]
  },
  {
   "cell_type": "markdown",
   "id": "28779327",
   "metadata": {},
   "source": [
    "Metal or not"
   ]
  },
  {
   "cell_type": "code",
   "execution_count": 5,
   "id": "7d2e6b11",
   "metadata": {},
   "outputs": [
    {
     "data": {
      "application/vnd.jupyter.widget-view+json": {
       "model_id": "b65b9ca8855b4f98a24889b14d3953e7",
       "version_major": 2,
       "version_minor": 0
      },
      "text/plain": [
       "ElementProperty:   0%|          | 0/1661 [00:00<?, ?it/s]"
      ]
     },
     "metadata": {},
     "output_type": "display_data"
    },
    {
     "name": "stderr",
     "output_type": "stream",
     "text": [
      "/home/da36nik/miniconda3/envs/MI_10/lib/python3.10/site-packages/sklearn/linear_model/_logistic.py:469: ConvergenceWarning: lbfgs failed to converge (status=1):\n",
      "STOP: TOTAL NO. of ITERATIONS REACHED LIMIT.\n",
      "\n",
      "Increase the number of iterations (max_iter) or scale the data as shown in:\n",
      "    https://scikit-learn.org/stable/modules/preprocessing.html\n",
      "Please also refer to the documentation for alternative solver options:\n",
      "    https://scikit-learn.org/stable/modules/linear_model.html#logistic-regression\n",
      "  n_iter_i = _check_optimize_result(\n"
     ]
    },
    {
     "data": {
      "image/png": "[encoded data removed]",
      "text/plain": [
       "<Figure size 640x480 with 2 Axes>"
      ]
     },
     "metadata": {},
     "output_type": "display_data"
    },
    {
     "data": {
      "image/png": "[encoded data removed]",
      "text/plain": [
       "<Figure size 640x480 with 1 Axes>"
      ]
     },
     "metadata": {},
     "output_type": "display_data"
    }
   ],
   "source": [
    "import pandas as pd\n",
    "from matminer.featurizers.composition import ElementProperty\n",
    "from pymatgen.core import Composition\n",
    "from sklearn.linear_model import LogisticRegression\n",
    "from sklearn.metrics import confusion_matrix, ConfusionMatrixDisplay, precision_recall_curve, average_precision_score\n",
    "\n",
    "\n",
    "# load dataset\n",
    "path = r\"/home/da36nik/Documents/Material_Informatics/Exercise_10/composition_metal.csv\"\n",
    "df = pd.read_csv(path, sep=\",\")\n",
    "\n",
    "# convert composition strings to pymatgen Composition objects\n",
    "df[\"composition\"] = df[\"composition\"].apply(Composition)\n",
    "\n",
    "# featurize with MagPie\n",
    "featurizer = ElementProperty.from_preset(\"magpie\")\n",
    "df_feat = featurizer.featurize_dataframe(df, col_id=\"composition\", ignore_errors=True, return_errors=True)\n",
    "\n",
    "# Prepare features and labels\n",
    "X = df_feat[featurizer.feature_labels()]  # Only use MagPie features\n",
    "y = df_feat[\"is_metal\"] # define the label --> metal or not\n",
    "\n",
    "# train/test split --> stratify makes sure that there is the same share of metals and no-metals in the training and test split\n",
    "X_train, X_test, y_train, y_test = train_test_split(X, y, train_size=0.7, random_state=10, stratify=y)\n",
    "\n",
    "# train logistic regression\n",
    "clf = LogisticRegression(max_iter=1000)\n",
    "clf.fit(X_train, y_train)\n",
    "\n",
    "# Evaluation\n",
    "y_pred = clf.predict(X_test)\n",
    "y_score = clf.decision_function(X_test)  # For precision-recall curve\n",
    "\n",
    "# Confusion matrix\n",
    "cm = confusion_matrix(y_test, y_pred)\n",
    "disp = ConfusionMatrixDisplay(confusion_matrix=cm, display_labels=clf.classes_)\n",
    "disp.plot(cmap=plt.cm.Blues)\n",
    "plt.title(\"Confusion Matrix\")\n",
    "plt.show()\n",
    "\n",
    "# Precision-Recall curve\n",
    "precision, recall, _ = precision_recall_curve(y_test, y_score)\n",
    "ap = average_precision_score(y_test, y_score)\n",
    "plt.figure()\n",
    "plt.plot(recall, precision, label=f\"AP={ap:.2f}\")\n",
    "plt.xlabel(\"Recall\")\n",
    "plt.ylabel(\"Precision\")\n",
    "plt.title(\"Precision-Recall Curve\")\n",
    "plt.legend()\n",
    "plt.show()"
   ]
  },
  {
   "cell_type": "markdown",
   "id": "3b7eeba0",
   "metadata": {},
   "source": [
    "Material IDs"
   ]
  },
  {
   "cell_type": "code",
   "execution_count": null,
   "id": "ef5e096d",
   "metadata": {},
   "outputs": [
    {
     "data": {
      "application/vnd.jupyter.widget-view+json": {
       "model_id": "8ce6f893a5114ab087f8734967642048",
       "version_major": 2,
       "version_minor": 0
      },
      "text/plain": [
       "Retrieving SummaryDoc documents:   0%|          | 0/8633 [00:00<?, ?it/s]"
      ]
     },
     "metadata": {},
     "output_type": "display_data"
    }
   ],
   "source": [
    "from mp_api.client import MPRester\n",
    "\n",
    "\n",
    "# load the material id's\n",
    "path = r\"/home/da36nik/Documents/Material_Informatics/Exercise_10/material_ids.csv\"\n",
    "df = pd.read_csv(path, index_col='material_ids') # read the dataset with mp_ids\n",
    "material_ids = df.index.tolist()\n",
    "\n",
    "# Query Materials Project for formula_pretty and bulk_modulus\n",
    "api_key = \"7UWykGWbVgCdp8QA7JEi5xMQ7kGSqKS9\"\n",
    "with MPRester(api_key) as mpr:\n",
    "    docs = mpr.materials.summary.search(material_ids=material_ids, fields=[\"material_id\", \"formula_pretty\", \"bulk_modulus\"])\n",
    "\n",
    "# Build DataFrame\n",
    "data = []\n",
    "for doc in docs:\n",
    "    if doc.bulk_modulus is not None:\n",
    "        data.append({\n",
    "            \"material_id\": doc.material_id,\n",
    "            \"composition\": doc.formula_pretty,\n",
    "            \"bulk_modulus\": doc.bulk_modulus[\"vrh\"] # select vrh bulk modulus\n",
    "        })\n",
    "df = pd.DataFrame(data)"
   ]
  },
  {
   "cell_type": "code",
   "execution_count": null,
   "id": "a684a8dd",
   "metadata": {},
   "outputs": [
    {
     "name": "stderr",
     "output_type": "stream",
     "text": [
      "Processing Input Data: 100%|██████████| 8633/8633 [00:00<00:00, 21307.21it/s]\n"
     ]
    },
    {
     "name": "stdout",
     "output_type": "stream",
     "text": [
      "\tFeaturizing Compositions...\n"
     ]
    },
    {
     "name": "stderr",
     "output_type": "stream",
     "text": [
      "Assigning Features...: 100%|██████████| 8633/8633 [00:00<00:00, 10166.14it/s]\n"
     ]
    },
    {
     "name": "stdout",
     "output_type": "stream",
     "text": [
      "\tCreating Pandas Objects...\n"
     ]
    }
   ],
   "source": [
    "from CBFV import composition\n",
    "\n",
    "df[\"log_bulk_modulus\"] = np.log10(df[\"bulk_modulus\"]) # create target property\n",
    "df_target = df[[\"composition\", \"log_bulk_modulus\"]] # extract the formula and target values\n",
    "df_target = df_target.rename(columns={\"composition\": \"formula\", \"log_bulk_modulus\": \"target\"}) #rename the columns\n",
    "\n",
    "# create the features\n",
    "X, y, formulae, skipped = composition.generate_features(df_target,\n",
    "                                                        elem_prop='magpie',\n",
    "                                                        drop_duplicates=False,\n",
    "                                                        extend_features=True,\n",
    "                                                        sum_feat=True)\n"
   ]
  },
  {
   "cell_type": "code",
   "execution_count": 31,
   "id": "180e683b",
   "metadata": {},
   "outputs": [
    {
     "name": "stdout",
     "output_type": "stream",
     "text": [
      "Best alpha values from each fold: [0.56, 0.34, 0.34, 0.56, 0.01, 0.12, 0.23, 0.12, 0.01, 0.01]\n",
      "Mean R2 from 10 folds: 0.6464148639025089\n",
      "Std R2 from 10 folds: 0.07807685978438833\n",
      "Most frequent best alpha: 0.01\n"
     ]
    }
   ],
   "source": [
    "from sklearn.linear_model import Ridge\n",
    "from sklearn.model_selection import KFold, GridSearchCV\n",
    "from sklearn.preprocessing import StandardScaler\n",
    "from sklearn.pipeline import Pipeline\n",
    "\n",
    "outer_cv = KFold(n_splits=10, shuffle=True, random_state=10)\n",
    "inner_cv = KFold(n_splits=5, shuffle=True, random_state=10)\n",
    "\n",
    "alphas = np.linspace(0.01, 1, 10)  # Avoid alpha=0 for Ridge\n",
    "param_grid = {'ridge__alpha': alphas}\n",
    "\n",
    "outer_scores = []\n",
    "best_alphas = []\n",
    "\n",
    "for train_idx, test_idx in outer_cv.split(X):\n",
    "    X_train, X_test = X.iloc[train_idx], X.iloc[test_idx]\n",
    "    y_train, y_test = y[train_idx], y[test_idx]\n",
    "\n",
    "    pipe = Pipeline([\n",
    "        ('scaler', StandardScaler()),\n",
    "        ('ridge', Ridge(max_iter=10000))\n",
    "    ])\n",
    "\n",
    "    grid = GridSearchCV(pipe, param_grid, cv=inner_cv, scoring='r2')\n",
    "    grid.fit(X_train, y_train)\n",
    "\n",
    "    best_alpha = grid.best_params_['ridge__alpha']\n",
    "    best_alphas.append(best_alpha)\n",
    "\n",
    "    score = grid.score(X_test, y_test)\n",
    "    outer_scores.append(score)\n",
    "\n",
    "print(\"Best alpha values from each fold:\", best_alphas)\n",
    "print(\"Mean R2 from 10 folds:\", np.mean(outer_scores))\n",
    "print(\"Std R2 from 10 folds:\", np.std(outer_scores))\n",
    "print(\"Most frequent best alpha:\", max(set(best_alphas), key=best_alphas.count))"
   ]
  }
 ],
 "metadata": {
  "kernelspec": {
   "display_name": "MI_10",
   "language": "python",
   "name": "python3"
  },
  "language_info": {
   "codemirror_mode": {
    "name": "ipython",
    "version": 3
   },
   "file_extension": ".py",
   "mimetype": "text/x-python",
   "name": "python",
   "nbconvert_exporter": "python",
   "pygments_lexer": "ipython3",
   "version": "3.10.0"
  }
 },
 "nbformat": 4,
 "nbformat_minor": 5
}
